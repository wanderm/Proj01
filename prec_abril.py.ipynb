{
 "cells": [
  {
   "cell_type": "code",
   "execution_count": null,
   "metadata": {},
   "outputs": [],
   "source": [
    "import pandas as pd\n",
    "col_names=['Código','Local','Município','UF','Lat','Lon','Prec_Diária']\n",
    "file = pd.read_csv('/Users/wander/MachineLearning/prec_apr.txt', header=None, sep='\\t', names=col_names, engine='python', index_col='Código')\n",
    "file_sort = file.sort_index()\n",
    "file_out = '/Users/wander/MachineLearning/prec_apr_out.xlsx'\n",
    "file_sort.to_excel(file_out)\n",
    "file_sort.head()\n",
    "file_sort['Prec_Diária']=pd.to_numeric(file_sort['Prec_Diária'], errors='coerce')\n",
    "file_total = file_sort.groupby('Código')['Prec_Diária'].sum()\n",
    "file_out2 = '/Users/wander/MachineLearning/prec_apr_total.xlsx'\n",
    "file_total.to_excel(file_out2)\n",
    "file_total.head()"
   ]
  },
  {
   "cell_type": "code",
   "execution_count": null,
   "metadata": {},
   "outputs": [],
   "source": []
  },
  {
   "cell_type": "code",
   "execution_count": null,
   "metadata": {},
   "outputs": [],
   "source": []
  }
 ],
 "metadata": {
  "kernelspec": {
   "display_name": "Python 3",
   "language": "python",
   "name": "python3"
  },
  "language_info": {
   "codemirror_mode": {
    "name": "ipython",
    "version": 3
   },
   "file_extension": ".py",
   "mimetype": "text/x-python",
   "name": "python",
   "nbconvert_exporter": "python",
   "pygments_lexer": "ipython3",
   "version": "3.6.4"
  }
 },
 "nbformat": 4,
 "nbformat_minor": 2
}
